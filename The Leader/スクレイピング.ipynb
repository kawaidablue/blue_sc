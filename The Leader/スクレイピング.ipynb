{
 "cells": [
  {
   "cell_type": "code",
   "execution_count": null,
   "metadata": {},
   "outputs": [
    {
     "name": "stdout",
     "output_type": "stream",
     "text": [
      "取得中: https://the-leader.jp/interview/page/1/\n",
      "取得中: https://the-leader.jp/interview/page/2/\n",
      "取得中: https://the-leader.jp/interview/page/3/\n",
      "取得中: https://the-leader.jp/interview/page/4/\n",
      "取得中: https://the-leader.jp/interview/page/5/\n",
      "取得中: https://the-leader.jp/interview/page/6/\n",
      "取得中: https://the-leader.jp/interview/page/7/\n",
      "取得中: https://the-leader.jp/interview/page/8/\n",
      "取得中: https://the-leader.jp/interview/page/9/\n",
      "取得中: https://the-leader.jp/interview/page/10/\n",
      "取得中: https://the-leader.jp/interview/page/11/\n",
      "取得中: https://the-leader.jp/interview/page/12/\n",
      "取得中: https://the-leader.jp/interview/page/13/\n",
      "取得中: https://the-leader.jp/interview/page/14/\n",
      "取得中: https://the-leader.jp/interview/page/15/\n",
      "取得中: https://the-leader.jp/interview/page/16/\n",
      "取得中: https://the-leader.jp/interview/page/17/\n",
      "✅ 全ページのCSV保存完了\n"
     ]
    }
   ],
   "source": [
    "import requests\n",
    "from bs4 import BeautifulSoup\n",
    "import pandas as pd\n",
    "import time\n",
    "\n",
    "headers = {\"User-Agent\": \"Mozilla/5.0\"}\n",
    "base_url = \"https://the-leader.jp/interview/page/{}/\"\n",
    "data = []\n",
    "\n",
    "# 1〜17ページをループ\n",
    "for page in range(1, 18):\n",
    "    url = base_url.format(page)\n",
    "    print(f\"取得中: {url}\")\n",
    "    \n",
    "    res = requests.get(url, headers=headers)\n",
    "    if res.status_code != 200:\n",
    "        print(f\"❌ 取得失敗: {url}\")\n",
    "        continue\n",
    "\n",
    "    soup = BeautifulSoup(res.text, \"html.parser\")\n",
    "    articles = soup.select(\"div.tl_article\")\n",
    "\n",
    "    for article in articles:\n",
    "        a_tag = article.select_one(\"a[href]\")\n",
    "        h2_tag = article.select_one(\"h2.tl_title\")\n",
    "\n",
    "        if a_tag and h2_tag:\n",
    "            article_url = a_tag[\"href\"]\n",
    "            title = h2_tag.get_text(strip=True).replace(\"\\n\", \"\")\n",
    "            data.append({\n",
    "                \"URL\": article_url,\n",
    "                \"タイトル\": title\n",
    "            })\n",
    "    time.sleep(1)  \n",
    "# CSV保存\n",
    "df = pd.DataFrame(data)\n",
    "df.to_csv(\"the_leader_articles_all.csv\", index=False, encoding=\"utf-8-sig\")\n",
    "print(\"✅ 全ページのCSV保存完了\")"
   ]
  },
  {
   "cell_type": "code",
   "execution_count": 2,
   "metadata": {},
   "outputs": [
    {
     "name": "stdout",
     "output_type": "stream",
     "text": [
      "✅ 完了しました。\n"
     ]
    }
   ],
   "source": [
    "import requests\n",
    "from bs4 import BeautifulSoup\n",
    "import pandas as pd\n",
    "import time\n",
    "\n",
    "# CSVファイルの読み込み（URLのリスト）\n",
    "df = pd.read_csv(\"the_leader_articles_all.csv\")\n",
    "urls = df[\"URL\"].tolist()\n",
    "\n",
    "result = []\n",
    "\n",
    "for url in urls:\n",
    "    try:\n",
    "        res = requests.get(url, timeout=10)\n",
    "        soup = BeautifulSoup(res.text, \"html.parser\")\n",
    "\n",
    "        box = soup.find(\"div\", class_=\"box29\")\n",
    "        if not box:\n",
    "            continue\n",
    "\n",
    "        # 初期値\n",
    "        company_name = ceo_name = site_url = \"\"\n",
    "\n",
    "        for p in box.find_all(\"p\"):\n",
    "            text = p.get_text(strip=True)\n",
    "            if \"企業名\" in text:\n",
    "                company_name = text.split(\"：\")[-1].strip()\n",
    "            elif \"代表者\" in text:\n",
    "                ceo_name = text.split(\"：\")[-1].strip()\n",
    "            elif \"URL\" in text:\n",
    "                a = p.find(\"a\")\n",
    "                if a:\n",
    "                    site_url = a[\"href\"].strip()\n",
    "        time.sleep(1)\n",
    "\n",
    "        result.append({\n",
    "            \"企業名\": company_name,\n",
    "            \"代表者\": ceo_name,\n",
    "            \"URL\": site_url,\n",
    "            \"インタビュー記事URL\": url\n",
    "        })\n",
    "        \n",
    "\n",
    "    except Exception as e:\n",
    "        print(f\"エラー: {url} -> {e}\")\n",
    "\n",
    "# CSVに保存\n",
    "df_out = pd.DataFrame(result)\n",
    "df_out.to_csv(\"the_leader_company_info.csv\", index=False, encoding=\"utf-8-sig\")\n",
    "print(\"✅ 完了しました。\")"
   ]
  }
 ],
 "metadata": {
  "kernelspec": {
   "display_name": "base",
   "language": "python",
   "name": "python3"
  },
  "language_info": {
   "codemirror_mode": {
    "name": "ipython",
    "version": 3
   },
   "file_extension": ".py",
   "mimetype": "text/x-python",
   "name": "python",
   "nbconvert_exporter": "python",
   "pygments_lexer": "ipython3",
   "version": "3.12.4"
  }
 },
 "nbformat": 4,
 "nbformat_minor": 2
}
