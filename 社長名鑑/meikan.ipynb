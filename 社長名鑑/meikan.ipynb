{
 "cells": [
  {
   "cell_type": "code",
   "execution_count": 1,
   "metadata": {},
   "outputs": [
    {
     "name": "stdout",
     "output_type": "stream",
     "text": [
      "取得中: https://shachomeikan.jp/prefecture/23\n",
      "取得中: https://shachomeikan.jp/prefecture/23?page=2\n",
      "取得中: https://shachomeikan.jp/prefecture/23?page=3\n",
      "取得中: https://shachomeikan.jp/prefecture/23?page=4\n",
      "取得中: https://shachomeikan.jp/prefecture/23?page=5\n",
      "取得中: https://shachomeikan.jp/prefecture/23?page=6\n",
      "✅ 完了：会社URL一覧を all_company_urls.csv に保存しました\n"
     ]
    }
   ],
   "source": [
    "import requests\n",
    "from bs4 import BeautifulSoup\n",
    "import pandas as pd\n",
    "import time\n",
    "\n",
    "base_url = \"https://shachomeikan.jp\"\n",
    "start_url = \"/prefecture/23\"\n",
    "headers = {\"User-Agent\": \"Mozilla/5.0\"}\n",
    "\n",
    "all_urls = []\n",
    "\n",
    "while start_url:\n",
    "    url = base_url + start_url\n",
    "    print(f\"取得中: {url}\")\n",
    "    \n",
    "    try:\n",
    "        res = requests.get(url, headers=headers)\n",
    "        soup = BeautifulSoup(res.text, \"html.parser\")\n",
    "        \n",
    "        # <ul class=\"area\"> 内の <a href> を取得\n",
    "        for a in soup.select(\"ul.area li.link a\"):\n",
    "            href = a.get(\"href\")\n",
    "            if href:\n",
    "                full_url = base_url + href\n",
    "                all_urls.append(full_url)\n",
    "        \n",
    "        # 次のページがあるか確認\n",
    "        next_link = soup.select_one('a.mod-pager-item_next')\n",
    "        if next_link and next_link.get(\"href\"):\n",
    "            start_url = next_link.get(\"href\")\n",
    "        else:\n",
    "            start_url = None  # 終了\n",
    "    except Exception as e:\n",
    "        print(f\"スキップ：{url} エラー: {e}\")\n",
    "        break\n",
    "\n",
    "    time.sleep(1)  # サーバーにやさしく\n",
    "\n",
    "# 保存\n",
    "df = pd.DataFrame(all_urls, columns=[\"URL\"])\n",
    "df.to_csv(\"all_company_urls.csv\", index=False, encoding=\"utf-8-sig\")\n",
    "print(\"✅ 完了：会社URL一覧を all_company_urls.csv に保存しました\")"
   ]
  },
  {
   "cell_type": "code",
   "execution_count": 2,
   "metadata": {},
   "outputs": [
    {
     "name": "stdout",
     "output_type": "stream",
     "text": [
      "✅ 完了：company_info_list.csv に保存しました\n"
     ]
    }
   ],
   "source": [
    "import pandas as pd\n",
    "import requests\n",
    "from bs4 import BeautifulSoup\n",
    "import time\n",
    "\n",
    "# CSVファイルを読み込む（URLのみ）\n",
    "df = pd.read_csv(\"all_company_urls.csv\")\n",
    "urls = df[\"URL\"].tolist()\n",
    "\n",
    "# 結果格納用\n",
    "results = []\n",
    "headers = {\"User-Agent\": \"Mozilla/5.0\"}\n",
    "\n",
    "for url in urls:\n",
    "    try:\n",
    "        res = requests.get(url, headers=headers, timeout=10)\n",
    "        soup = BeautifulSoup(res.text, \"html.parser\")\n",
    "\n",
    "        table = soup.select_one(\"table.company-information\")\n",
    "        rows = table.select(\"tr\") if table else []\n",
    "\n",
    "        company_name = \"N/A\"\n",
    "        ceo_name = \"N/A\"\n",
    "\n",
    "        for row in rows:\n",
    "            th = row.select_one(\"th\")\n",
    "            td = row.select_one(\"td\")\n",
    "            if th and td:\n",
    "                label = th.get_text(strip=True)\n",
    "                value = td.get_text(strip=True)\n",
    "                if \"社名\" in label:\n",
    "                    company_name = value\n",
    "                elif \"代表者名\" in label:\n",
    "                    ceo_name = value\n",
    "                elif \"WEBサイト\" in label:\n",
    "                    url = value\n",
    "\n",
    "        results.append({\n",
    "            \"社名\": company_name,\n",
    "            \"代表者名\": ceo_name,\n",
    "            \"会社URL\": url\n",
    "        })\n",
    "\n",
    "    except Exception as e:\n",
    "        print(f\"スキップ: {url} エラー: {e}\")\n",
    "        results.append({\n",
    "            \"社名\": \"N/A\",\n",
    "            \"代表者名\": \"N/A\",\n",
    "            \"会社URL\": url\n",
    "        })\n",
    "\n",
    "    time.sleep(1)  # サーバー負荷を避けるため\n",
    "\n",
    "# 保存\n",
    "df_result = pd.DataFrame(results)\n",
    "df_result.to_csv(\"company_info_list.csv\", index=False, encoding=\"utf-8-sig\")\n",
    "print(\"✅ 完了：company_info_list.csv に保存しました\")"
   ]
  },
  {
   "cell_type": "code",
   "execution_count": null,
   "metadata": {},
   "outputs": [],
   "source": []
  }
 ],
 "metadata": {
  "kernelspec": {
   "display_name": "base",
   "language": "python",
   "name": "python3"
  },
  "language_info": {
   "codemirror_mode": {
    "name": "ipython",
    "version": 3
   },
   "file_extension": ".py",
   "mimetype": "text/x-python",
   "name": "python",
   "nbconvert_exporter": "python",
   "pygments_lexer": "ipython3",
   "version": "3.12.4"
  }
 },
 "nbformat": 4,
 "nbformat_minor": 2
}
